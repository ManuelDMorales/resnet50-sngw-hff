{
  "cells": [
    {
      "cell_type": "markdown",
      "metadata": {
        "id": "Hs2qXEhZhM9E"
      },
      "source": [
        "<font size=\"5.5\"><u><i>Convert Strain to Image</i></u></font>"
      ]
    },
    {
      "cell_type": "markdown",
      "metadata": {
        "id": "kyCyw8TyhTu9"
      },
      "source": [
        "<font size=\"4\">Script to convert strain samples (time series) to image samples (TF Morlet wavelet scalograms).</font>\n",
        "<br/>\n",
        "<font size=\"4\">Author: Manuel David Morales</font>"
      ]
    },
    {
      "cell_type": "markdown",
      "metadata": {
        "id": "sXEJuwfN5SEK"
      },
      "source": [
        "<font size=\"4\">*This code has been adapted to be run on Google Colaboratory*</font>"
      ]
    },
    {
      "cell_type": "code",
      "execution_count": null,
      "metadata": {
        "colab": {
          "base_uri": "https://localhost:8080/"
        },
        "id": "3lekLMB7g7V1",
        "outputId": "e5e1592b-9bad-411b-ca80-5eaeb3919fc7"
      },
      "outputs": [
        {
          "output_type": "stream",
          "name": "stdout",
          "text": [
            "Mounted at /content/drive\n"
          ]
        }
      ],
      "source": [
        "# Mount Google Drive repository\n",
        "\n",
        "from google.colab import drive\n",
        "drive.mount('/content/drive', force_remount=True)"
      ]
    },
    {
      "cell_type": "markdown",
      "metadata": {
        "id": "40X23SO3Dnfb"
      },
      "source": [
        "## 1) Library imports"
      ]
    },
    {
      "cell_type": "code",
      "execution_count": null,
      "metadata": {
        "id": "rEma2jOCB27o"
      },
      "outputs": [],
      "source": [
        "# Data analysis\n",
        "import numpy as np\n",
        "import pandas as pd\n",
        "\n",
        "# Visualization\n",
        "import matplotlib as mpl\n",
        "import matplotlib.pyplot as plt\n",
        "from matplotlib.pyplot import imshow\n",
        "\n",
        "# Scientific computing\n",
        "import scipy.misc\n",
        "from scipy import signal\n",
        "\n",
        "# Files/folders management\n",
        "import os, glob, io\n",
        "\n",
        "# To read csv files\n",
        "import csv\n",
        "\n",
        "# Garbage collector\n",
        "import gc\n",
        "\n",
        "# Image management\n",
        "from PIL import Image"
      ]
    },
    {
      "cell_type": "markdown",
      "metadata": {
        "id": "Q6sFq-_iLArQ"
      },
      "source": [
        "## 2) Input parameters"
      ]
    },
    {
      "cell_type": "code",
      "execution_count": null,
      "metadata": {
        "id": "CpHyw0A7LBj6"
      },
      "outputs": [],
      "source": [
        "# Interferometer for noise data\n",
        "# --------------------------------------------------------------------\n",
        "detector = \"H1\"    # Options: \"L1\", \"H1\", \"V1\"\n",
        "# --------------------------------------------------------------------\n",
        "\n",
        "# Class of samples to convert\n",
        "# --------------------------------------------------------------------\n",
        "sample_class = \"3\"    # Options: \"1\", \"2\", \"3\"\n",
        "\n",
        "# Work with CCSNe general relativistic waveforms?\n",
        "# --------------------------------------------------------------------\n",
        "GRwf_cond = 1       # Options: 0 (no), 1 (yes)\n",
        "# --------------------------------------------------------------------\n",
        "\n",
        "# For GRwf_cond = 1, list CCSNe waveform models\n",
        "# --------------------------------------------------------------------\n",
        "wf_models = [\"Andresen_2019\", \"Morozova_2018\", \"Cerda-Duran_2013\"]\n",
        "# --------------------------------------------------------------------\n",
        "\n",
        "# For GRwf_cond = 1, set the distance (in kiloparsecs)\n",
        "# --------------------------------------------------------------------\n",
        "distance = 1     # Options: 1, 5, 10 (for now)\n",
        "# --------------------------------------------------------------------"
      ]
    },
    {
      "cell_type": "markdown",
      "metadata": {
        "id": "yJBIeitSFNwb"
      },
      "source": [
        "## 3) Read files"
      ]
    },
    {
      "cell_type": "code",
      "execution_count": null,
      "metadata": {
        "colab": {
          "base_uri": "https://localhost:8080/"
        },
        "id": "jz0z5lZjgcvr",
        "outputId": "07e9e058-2120-484a-b9df-aaf5232fed26"
      },
      "outputs": [
        {
          "output_type": "stream",
          "name": "stdout",
          "text": [
            "Strain datasets are located at: /content/drive/MyDrive/Colab Notebooks/GitHub/CCSNeHFGW_ResNetClass/Datasets/NumWf/Distance_10Kpc/\n",
            "\n"
          ]
        }
      ],
      "source": [
        "# ------> Specify folder location\n",
        "\n",
        "if GRwf_cond = 0:\n",
        "  data_dir = '/content/drive/MyDrive/Colab Notebooks/GitHub/CCSNeHFGW_ResNetClass/Datasets/PhenWf/'\n",
        "elif GRwf_cond = 1:\n",
        "  data_dir = '/content/drive/MyDrive/Colab Notebooks/GitHub/CCSNeHFGW_ResNetClass/Datasets/GenRelWf/Distance_' + str(distance) + 'Kpc/'\n",
        "\n",
        "print(\"Strain datasets are located at:\", data_dir)\n",
        "print(\"\")"
      ]
    },
    {
      "cell_type": "code",
      "execution_count": null,
      "metadata": {
        "id": "qXiDG_tlqVHr"
      },
      "outputs": [],
      "source": [
        "# ---------------------------------------------------------------\n",
        "# ------> Strain sample and log data files reader\n",
        "# ---------------------------------------------------------------\n",
        "\n",
        "def load_straindata(folder_path, class_samples, class_logdata):\n",
        "\n",
        "    \"\"\"\n",
        "    Function to load strain samples for a given GPS segment.\n",
        "\n",
        "    INPUT:\n",
        "            folder_path    -> Folder path\n",
        "            class_samples  -> Dictionary, to save strain\n",
        "                              samples for each class (key)\n",
        "            class_logdata  -> Dictionary, to save log\n",
        "                              data for each class (key)\n",
        "\n",
        "    OUTPUT:\n",
        "            class_samples  -> Updated samples dictionary\n",
        "            class_logdata  -> Updated log dictionary\n",
        "            Num_samples    -> No. of loaded samples\n",
        "    \"\"\"\n",
        "\n",
        "    os.chdir(folder_path)\n",
        "    #print(folder_path)\n",
        "\n",
        "    # Initialize No. of samples count\n",
        "    Num_samples = 0\n",
        "\n",
        "    # Loop: Waveform class subfolders\n",
        "    # ---------------------------------\n",
        "    for subfolder in glob.glob(\"wfclass_*\"):\n",
        "\n",
        "        print(\"=======> SCANNING\", subfolder, \"SUBFOLDER\")\n",
        "\n",
        "        class_label = subfolder[-1]\n",
        "\n",
        "        # *********************************************************************\n",
        "        # Condition: Phen. or Gen. Rel. waveforms?\n",
        "        if GRwf_cond == 0:\n",
        "          os.chdir(folder_path + \"/\" + subfolder)\n",
        "          print(folder_path + \"/\" + subfolder)\n",
        "\n",
        "        elif GRwf_cond == 1:\n",
        "          path = folder_path + \"/\" + subfolder + \"/\" + wf_models[int(class_label)-1]\n",
        "          os.chdir(path)\n",
        "          print(path)\n",
        "        # *********************************************************************\n",
        "\n",
        "        windows_onelabel = []\n",
        "\n",
        "        logdata_onelabel = []\n",
        "\n",
        "        # Loop: Strain window samples\n",
        "        # -----------------------------\n",
        "        for file in glob.glob(\"sample_strain_*\"):\n",
        "\n",
        "            #print(\"***** READING FILE\", file, \" *****\")\n",
        "\n",
        "            # Extract sample number from file\n",
        "            # Remark: Some ordinal numbers could be not present, because\n",
        "            # in strain dataset generation, samples of SNR values outside\n",
        "            # of an acceptation range are removed (SNR>100)\n",
        "            Num_TFsample = int(file[-10:-4])\n",
        "\n",
        "            # -----> Load log data\n",
        "            # ----------------------\n",
        "\n",
        "            # Remark: Read and update log data file is important, because\n",
        "            # reading of strain samples does not following the same order as\n",
        "            # the number of strain samples files. Then, TF samples will\n",
        "            # be not enumerated following the order of the strain samples.\n",
        "\n",
        "            with open(\"log.dat\") as csv_file:\n",
        "\n",
        "                csv_reader = csv.reader(csv_file, delimiter=',')\n",
        "                line_count = 0\n",
        "\n",
        "                for row in csv_reader:\n",
        "\n",
        "                    if line_count == 0:\n",
        "                        #print(f'Data columns: {\", \".join(row)}')\n",
        "                        line_count += 1\n",
        "\n",
        "                    elif line_count == Num_TFsample + 2:\n",
        "                        t_inj = row[0]\n",
        "                        jitter = row[1]\n",
        "                        wf_SNR = row[2]\n",
        "\n",
        "                        # *****************************************************\n",
        "                        # Condition: Phen. or Gen. Rel. waveforms?\n",
        "                        if GRwf_cond == 0:\n",
        "                          Slope = row[3]\n",
        "                          f_ini = row[4]\n",
        "                          f_end = row[5]\n",
        "                          wf_duration = row[6]\n",
        "\n",
        "                        elif GRwf_cond == 1:\n",
        "                          wf_duration = row[3]\n",
        "                        # *****************************************************\n",
        "\n",
        "                        break\n",
        "\n",
        "                    line_count += 1\n",
        "\n",
        "            # *****************************************************************\n",
        "            # Condition: Phen. or Gen. Rel. waveforms?\n",
        "            if GRwf_cond == 0:\n",
        "              logdata_onelabel.append([str(Num_TFsample+1), t_inj, jitter, wf_SNR, Slope, f_ini, f_end, wf_duration])\n",
        "            elif GRwf_cond == 1:\n",
        "              logdata_onelabel.append([str(Num_TFsample+1), t_inj, jitter, wf_SNR, wf_duration])\n",
        "            # *****************************************************************\n",
        "\n",
        "            # -----> Load strain data\n",
        "            # -------------------------\n",
        "\n",
        "            with open(file) as csv_file:\n",
        "\n",
        "                sample = pd.read_csv(file)\n",
        "                sample_arr = sample.to_numpy()\n",
        "                windows_onelabel.append(sample_arr)\n",
        "\n",
        "                Num_samples += 1\n",
        "\n",
        "        class_samples[\"class \" + class_label] = windows_onelabel\n",
        "        class_logdata[\"class \" + class_label] = logdata_onelabel\n",
        "\n",
        "    return class_samples, class_logdata, Num_samples"
      ]
    },
    {
      "cell_type": "code",
      "execution_count": null,
      "metadata": {
        "colab": {
          "base_uri": "https://localhost:8080/"
        },
        "id": "S6fJ6D83lCyh",
        "outputId": "73a6c0af-f73f-48b0-8846-793ab1a6217f"
      },
      "outputs": [
        {
          "output_type": "stream",
          "name": "stdout",
          "text": [
            "SCANNING H1_1256783872 FOLDER\n",
            "------------------------------------------\n",
            "=======> SCANNING wfclass_1 SUBFOLDER\n",
            "/content/drive/MyDrive/Colab Notebooks/GitHub/CCSNeHFGW_ResNetClass/Datasets/NumWf/Distance_10Kpc/H1_1256783872/wfclass_1/Andresen_2019\n",
            "=======> SCANNING wfclass_3 SUBFOLDER\n",
            "/content/drive/MyDrive/Colab Notebooks/GitHub/CCSNeHFGW_ResNetClass/Datasets/NumWf/Distance_10Kpc/H1_1256783872/wfclass_3/Cerda-Duran_2013\n",
            "=======> SCANNING wfclass_2 SUBFOLDER\n",
            "/content/drive/MyDrive/Colab Notebooks/GitHub/CCSNeHFGW_ResNetClass/Datasets/NumWf/Distance_10Kpc/H1_1256783872/wfclass_2/Morozova_2018\n",
            "\n",
            "***** Total number of loaded samples:  1533\n"
          ]
        }
      ],
      "source": [
        "# Initialize list for segments GPS initial times\n",
        "GPS_seg = []\n",
        "\n",
        "# Initialize list for strain data by GPS segments\n",
        "strain_segments = []\n",
        "\n",
        "# Initialize list for log data by GPS segments\n",
        "logdata_segments = []\n",
        "\n",
        "# Initialize No. of total injections count\n",
        "Num_samples_total = 0\n",
        "\n",
        "# ------> Scan folders\n",
        "\n",
        "os.chdir(data_dir)\n",
        "\n",
        "# ------> Loop: GPS segment folders\n",
        "for folder in glob.glob(detector + \"*\"):\n",
        "\n",
        "    if \"_TF_samples\" in folder:\n",
        "      continue\n",
        "    else:\n",
        "\n",
        "      print(\"SCANNING\", folder, \"FOLDER\")\n",
        "      print(\"------------------------------------------\")\n",
        "\n",
        "      GPS_seg.append(folder[-10:])\n",
        "\n",
        "      # Initialize dictionary for strain data\n",
        "\n",
        "      class_samples = {}\n",
        "\n",
        "      # Initialize dictionary for log adata\n",
        "\n",
        "      class_logdata = {}\n",
        "\n",
        "      # Call function load_straindata\n",
        "      class_samples, class_logdata, Num_samples = load_straindata(data_dir + folder, class_samples, class_logdata)\n",
        "\n",
        "      strain_segments.append(class_samples)\n",
        "      logdata_segments.append(class_logdata)\n",
        "\n",
        "      Num_samples_total += Num_samples\n",
        "\n",
        "      print(\"\")\n",
        "\n",
        "print(\"***** Total number of loaded samples: \", Num_samples_total)"
      ]
    },
    {
      "cell_type": "code",
      "execution_count": null,
      "metadata": {
        "colab": {
          "base_uri": "https://localhost:8080/"
        },
        "id": "HwreD5vynHzj",
        "outputId": "d39d0518-fa5b-4941-a26a-7e632eeb83a9"
      },
      "outputs": [
        {
          "output_type": "stream",
          "name": "stdout",
          "text": [
            "Key of dictionaries in strain_segments lists:\n",
            "-----------------------------------------------\n",
            "dict_keys(['class 1', 'class 3', 'class 2'])\n",
            "\n",
            "Key of dictionaries in logdata_segments lists:\n",
            "-----------------------------------------------\n",
            "dict_keys(['class 1', 'class 3', 'class 2'])\n"
          ]
        }
      ],
      "source": [
        "# ------> Some checks\n",
        "\n",
        "print(\"Key of dictionaries in strain_segments lists:\")\n",
        "print(\"-----------------------------------------------\")\n",
        "for i in range(len(strain_segments)):\n",
        "  print(strain_segments[i].keys())\n",
        "\n",
        "print(\"\")\n",
        "\n",
        "print(\"Key of dictionaries in logdata_segments lists:\")\n",
        "print(\"-----------------------------------------------\")\n",
        "for i in range(len(strain_segments)):\n",
        "  print(logdata_segments[i].keys())\n",
        "\n",
        "# Remark: In strain_segments[n] and logdat_segments[n],\n",
        "#         n value is the folder's number of a strain GPS segment"
      ]
    },
    {
      "cell_type": "markdown",
      "metadata": {
        "id": "yEFwMTcMcFOj"
      },
      "source": [
        "## 4) Data preparation"
      ]
    },
    {
      "cell_type": "markdown",
      "metadata": {
        "id": "46bpCprsFkP5"
      },
      "source": [
        "Hereinafter, the analysis is performed only for the selected class"
      ]
    },
    {
      "cell_type": "code",
      "execution_count": null,
      "metadata": {
        "colab": {
          "base_uri": "https://localhost:8080/"
        },
        "id": "nxVanAFsRtB7",
        "outputId": "f913fd1e-ff1e-4fee-ed5b-62e5b4b05a57"
      },
      "outputs": [
        {
          "output_type": "stream",
          "name": "stdout",
          "text": [
            "Count of samples in segments of class 3 :\n",
            "-----------------------------------------\n",
            "\n",
            "---> GPS Segment 1256783872\n",
            "Strain files:  511\n",
            "Log data files:  511\n",
            "\n"
          ]
        }
      ],
      "source": [
        "# ------> Initial checks\n",
        "\n",
        "print(\"Count of samples in segments of class\", sample_class, \":\")\n",
        "print(\"-----------------------------------------\")\n",
        "print(\"\")\n",
        "\n",
        "for i in range(len(strain_segments)):\n",
        "    print(\"---> GPS Segment\", GPS_seg[i])\n",
        "    #print(\"****************\")\n",
        "    print(\"Strain files: \", len(strain_segments[i][\"class \" + sample_class]))\n",
        "    print(\"Log data files: \", len(logdata_segments[i][\"class \" + sample_class]))\n",
        "    print(\"\")\n"
      ]
    },
    {
      "cell_type": "code",
      "execution_count": null,
      "metadata": {
        "id": "0aXBrpZR4HHv"
      },
      "outputs": [],
      "source": [
        "# ------> Convert log data lists to numpy arrays of floats\n",
        "\n",
        "for seg in range(len(strain_segments)):\n",
        "    for i in range(len(logdata_segments[seg][\"class \" + sample_class])):\n",
        "        # List of strings to list of floats\n",
        "        logdata_segments[seg][\"class \" + sample_class][i] = [float(x) for x in logdata_segments[seg][\"class \" + sample_class][i]]\n",
        "        # List of floats to array of floats\n",
        "        logdata_segments[seg][\"class \" + sample_class][i] = np.array(logdata_segments[seg][\"class \" + sample_class][i])\n",
        "\n",
        "    logdata_segments[seg][\"class \" + sample_class] = np.array(logdata_segments[seg][\"class \" + sample_class])"
      ]
    },
    {
      "cell_type": "code",
      "execution_count": null,
      "metadata": {
        "id": "mVUlqK_xDgio"
      },
      "outputs": [],
      "source": [
        "# ------> Sort log data arrays by first row (ordinal number)\n",
        "\n",
        "for seg in range(len(strain_segments)):\n",
        "\n",
        "    # Copy main array as a temporary array\n",
        "    temp_arr = logdata_segments[seg][\"class \" + sample_class]\n",
        "\n",
        "    # Sort temporary array\n",
        "    temp_arr = temp_arr[temp_arr[:, 0].argsort()]\n",
        "\n",
        "    # Reasigne main array\n",
        "    logdata_segments[seg][\"class \" + sample_class] = temp_arr\n",
        "\n",
        "    # Delete temporary array\n",
        "    del(temp_arr)\n",
        "    gc.collect()"
      ]
    },
    {
      "cell_type": "code",
      "execution_count": null,
      "metadata": {
        "colab": {
          "base_uri": "https://localhost:8080/"
        },
        "id": "oWmB4gbhFf2x",
        "outputId": "82e18af2-299a-443f-a927-0c1943b3c5e1"
      },
      "outputs": [
        {
          "output_type": "stream",
          "name": "stdout",
          "text": [
            "Shape of logdata array with ordinal numbers:  (511, 5)\n",
            "Shape of logdata array without ordinal numbers:  (511, 4)\n"
          ]
        }
      ],
      "source": [
        "# ------> Concatenate arrays of logdata segments for the selected class\n",
        "\n",
        "if len(strain_segments) == 1:\n",
        "  logdata = logdata_segments[0][\"class \" + sample_class]\n",
        "elif len(strain_segments) == 2:\n",
        "  logdata = np.concatenate((logdata_segments[0][\"class \" + sample_class], logdata_segments[1][\"class \" + sample_class]), axis=0)\n",
        "\n",
        "#Check\n",
        "print(\"Shape of logdata array with ordinal numbers: \", logdata.shape)\n",
        "\n",
        "# ------> Remove ordinal numbers\n",
        "\n",
        "logdata = np.delete(logdata, 0, 1)\n",
        "\n",
        "# Check\n",
        "print(\"Shape of logdata array without ordinal numbers: \", logdata.shape)\n",
        "\n",
        "# Remark for checks:\n",
        "# 1st dimension -> Number of window strain samples\n",
        "# 2nd dimension -> Number of log variables for each sample"
      ]
    },
    {
      "cell_type": "code",
      "execution_count": null,
      "metadata": {
        "colab": {
          "base_uri": "https://localhost:8080/"
        },
        "id": "HUJ7l5IzGs0W",
        "outputId": "3adc5f42-f4d7-4373-eaa3-1284761a1308"
      },
      "outputs": [
        {
          "output_type": "stream",
          "name": "stdout",
          "text": [
            "Shape of samples array: (511, 3971, 2)\n"
          ]
        }
      ],
      "source": [
        "# ------> Merge lists of strain samples and convert to numpy array\n",
        "if len(strain_segments) == 1:\n",
        "  samples = strain_segments[0][\"class \" + sample_class]\n",
        "elif len(strain_segments) == 2:\n",
        "  samples = strain_segments[0][\"class \" + sample_class] + strain_segments[1][\"class \" + sample_class]\n",
        "\n",
        "samples = np.array(samples)\n",
        "\n",
        "# Check\n",
        "print(\"Shape of samples array:\", samples.shape)\n",
        "\n",
        "# Remark:\n",
        "# 1st dimension -> Number of window strain samples\n",
        "# 2nd dimension -> Window strain sample length\n",
        "# 3rd dimension -> Features; time [s] and strain"
      ]
    },
    {
      "cell_type": "code",
      "execution_count": null,
      "metadata": {
        "colab": {
          "base_uri": "https://localhost:8080/"
        },
        "id": "EtaVh_TH5dYv",
        "outputId": "405f0826-3fd0-4cd2-af0e-93e488882f9e"
      },
      "outputs": [
        {
          "output_type": "stream",
          "name": "stdout",
          "text": [
            "Sampling frequency of window strain samples: 4096.0\n"
          ]
        }
      ],
      "source": [
        "# ------> Compute sampling frequency\n",
        "\n",
        "fs = 1 / (np.transpose(samples[0])[0][1] - np.transpose(samples[0])[0][0])\n",
        "print(\"Sampling frequency of window strain samples:\", fs)"
      ]
    },
    {
      "cell_type": "markdown",
      "metadata": {
        "id": "NWn8VNVzdZDK"
      },
      "source": [
        "## 5) Samples conversion"
      ]
    },
    {
      "cell_type": "markdown",
      "metadata": {
        "id": "o1pTCR4LeiGB"
      },
      "source": [
        "Next cell contains functions to compute wavelet transform"
      ]
    },
    {
      "cell_type": "code",
      "execution_count": null,
      "metadata": {
        "id": "gDE3iYqJuKf0"
      },
      "outputs": [],
      "source": [
        "# @title\n",
        "# ---------------------------------------------------------------\n",
        "# ------> Wavelet time-frequency representation\n",
        "# ---------------------------------------------------------------\n",
        "\n",
        "def WaveletTF_transform(h, fs, fstart, fstop, delta_f, width, doplots):\n",
        "\n",
        "    \"\"\"\n",
        "    This function computes the time-frequency representation\n",
        "    based on a Wavelet transform of a signal (time series)\n",
        "\n",
        "    INPUT:\n",
        "            h        -> Signal\n",
        "            fs       -> Sampling frequency\n",
        "            fstart   -> Filter's initial frequency\n",
        "            fstop    -> Filter's final frequency\n",
        "            delta_f  -> Frequency bin width\n",
        "            width    -> Width of the wavelet (in cycles)\n",
        "            doplots  -> Do plots for checks (0: no, 1: yes)\n",
        "\n",
        "    OUTPUT:\n",
        "            timeVec  -> Vector of times\n",
        "            freqVec  -> Vector of frequencies\n",
        "            WL       -> Wavelet coefficients\n",
        "\n",
        "    \"\"\"\n",
        "\n",
        "    # ------> Time vector and time sampling\n",
        "\n",
        "    Nsamples = len(h)\n",
        "    timeVec = np.arange(0, Nsamples)/fs\n",
        "    ts      = 1/fs\n",
        "\n",
        "    # ------> Frequency vector\n",
        "\n",
        "    Nfreq = round((fstop - fstart) / delta_f) + 1\n",
        "    freqVec = np.linspace(fstart, fstop, Nfreq).reshape((-1, 1))\n",
        "\n",
        "    # ------> Initialize Wavelet Transform Matrix\n",
        "\n",
        "    WL = np.zeros((Nfreq, Nsamples))\n",
        "\n",
        "    #print(\"Wavelet Transform Matrix shape:\", WL.shape)\n",
        "\n",
        "    # ------> Compute the time-frequency representation\n",
        "\n",
        "    signal = h\n",
        "    #signal = detrend(h, axis=-1, type='linear')\n",
        "\n",
        "    for ifre in range(Nfreq):\n",
        "\n",
        "        # Compute the Morlet wavelet\n",
        "        Morlet = Morlet_wavelet(freqVec[ifre], ts, width, doplots);\n",
        "\n",
        "        # Apply the Morlet wavelet transform\n",
        "        WLcomplex = np.convolve(signal, Morlet, mode='full')\n",
        "\n",
        "        # Get indexes\n",
        "        li = int(np.ceil(len(Morlet) / 2))\n",
        "        ls = li + Nsamples\n",
        "        #ls = len(WLcomplex) - int(np.flor(len(Morlet) / 2))\n",
        "\n",
        "        # Complex coefficients\n",
        "        WLcomplex = WLcomplex[li:ls]\n",
        "\n",
        "        if doplots:\n",
        "\n",
        "            print(\"Frecuency =\", freqVec[ifre])\n",
        "            print(\"++++++++++++++++++++++++++++++++++++++++\")\n",
        "            print(\"\")\n",
        "\n",
        "            plt.figure()\n",
        "            plt.subplot(3, 1, 1)\n",
        "            plt.plot(np.real(WLcomplex), 'r')\n",
        "            plt.plot(np.imag(WLcomplex), 'b')\n",
        "            plt.legend(['real', 'imag'])\n",
        "            plt.box(True)\n",
        "            plt.title('Frequency: ' + str(freqVec[ifre]) + ' Hz')\n",
        "\n",
        "            plt.subplot(3, 1, 2)\n",
        "            plt.plot(np.abs(WLcomplex))\n",
        "            plt.legend(['magnitude'])\n",
        "            plt.box(True)\n",
        "\n",
        "            plt.subplot(3, 1, 3)\n",
        "            plt.plot(np.angle(WLcomplex))\n",
        "            plt.legend(['phase'])\n",
        "            plt.box(True)\n",
        "\n",
        "            plt.tight_layout()\n",
        "            plt.pause(0.1)  # Pause for a short time to show the plot\n",
        "            #plt.savefig('wavelet_decomposition.png')\n",
        "\n",
        "        # Compute the magnitude\n",
        "        WLmag = 2*(np.abs(WLcomplex)**2)/fs\n",
        "\n",
        "        # Save wavelet decomposition magnitude\n",
        "        WL[ifre, :] = WLmag\n",
        "\n",
        "        WL = np.squeeze(WL)\n",
        "\n",
        "        if doplots:\n",
        "\n",
        "            plt.figure()\n",
        "            X, Y = np.meshgrid(timeVec, freqVec)\n",
        "\n",
        "            plt.pcolormesh(X, Y, WL[:, :], shading='gouraud')\n",
        "\n",
        "            plt.axis([np.min(timeVec), np.max(timeVec), np.min(freqVec), np.max(freqVec)])\n",
        "            plt.xlabel('Time (s)')\n",
        "            plt.ylabel('Frequency (Hz)')\n",
        "            plt.title('Time-Frequency representation')\n",
        "            plt.box(True)\n",
        "            plt.colorbar()\n",
        "\n",
        "            plt.show()\n",
        "\n",
        "    return timeVec, freqVec, WL\n",
        "\n",
        "# ---------------------------------------------------------------\n",
        "# ------> Morlet Wavelet time-frequency representation\n",
        "# ---------------------------------------------------------------\n",
        "\n",
        "def Morlet_wavelet(fi, ts, morlet_w, doplots):\n",
        "\n",
        "    \"\"\"\n",
        "    Function to compute the Complex Morlet Wavelet for frequency \"fi\"\n",
        "    and time \"t\". This will be normalized so the total energy = 1.\n",
        "\n",
        "    INPUT:\n",
        "            fi        -> Frequency\n",
        "            ts        -> Sampling time\n",
        "            morlet_w  -> Wavelet's width (width>= 5 is suggested)\n",
        "            doplots   -> Do plots for checks (0: no, 1: yes)\n",
        "\n",
        "    OUTPUT:\n",
        "            Morlet    -> Morlet wavelet\n",
        "    \"\"\"\n",
        "\n",
        "    # Frequency standard deviation\n",
        "    sf = fi / morlet_w\n",
        "\n",
        "    # Time standard deviation\n",
        "    st = 1/(2*np.pi*sf)\n",
        "\n",
        "    # Wavelet's amplitude\n",
        "    A  = 1/np.sqrt(st*np.sqrt(np.pi))\n",
        "\n",
        "    # Time array\n",
        "    t = np.arange(-3.5 * st, 3.5 * st + ts, ts)\n",
        "\n",
        "    # Compute Morlet wavelet\n",
        "    Morlet =  A*np.exp(-t**2/(2*st**2))*np.exp(1j*2*np.pi*fi*t)\n",
        "\n",
        "    if doplots:\n",
        "\n",
        "        plt.figure()\n",
        "\n",
        "        plt.subplot(3, 1, 1)\n",
        "        plt.plot(t, np.real(Morlet), 'r', linewidth=2)\n",
        "        plt.plot(t, np.imag(Morlet), 'b', linewidth=2)\n",
        "        plt.ylabel('Morlet')\n",
        "        plt.legend(['Real', 'Imag'])\n",
        "        plt.box(True)\n",
        "        plt.title('Frequency = ' + str(fi) + 'Hz')\n",
        "\n",
        "        plt.subplot(3, 1, 2)\n",
        "        plt.plot(t, np.abs(Morlet), '.-r')\n",
        "        # plt.axis([-4, 4, 0, 6])\n",
        "        plt.xlabel('Time (s)')\n",
        "        plt.ylabel('Magnitude')\n",
        "\n",
        "        plt.subplot(3, 1, 3)\n",
        "        plt.plot(t, np.angle(Morlet), '.-b')\n",
        "        # plt.axis([-4, 4, -4, 4])\n",
        "        plt.xlabel('Time (s)')\n",
        "        plt.ylabel('Angle')\n",
        "\n",
        "        plt.tight_layout()\n",
        "        plt.show()\n",
        "\n",
        "    return Morlet"
      ]
    },
    {
      "cell_type": "code",
      "execution_count": null,
      "metadata": {
        "colab": {
          "base_uri": "https://localhost:8080/"
        },
        "id": "hGKUUqiUsucO",
        "outputId": "26a7e2ba-6a02-4011-8270-5dcd712fae2f"
      },
      "outputs": [
        {
          "output_type": "stream",
          "name": "stdout",
          "text": [
            "Available CCSNe waveform models of class 3\n",
            "Cerda-Duran_2013   |  Input option : 0\n",
            "\n",
            "======> Enter your option: 0\n",
            "\n",
            "Directory to save images: /content/drive/MyDrive/Colab Notebooks/GitHub/CCSNeHFGW_ResNetClass/Datasets/NumWf/Distance_10Kpc/H1_TF_samples_c3/Cerda-Duran_2013\n"
          ]
        }
      ],
      "source": [
        "# ------> Select samples CCSNe waveform model to convert\n",
        "\n",
        "os.chdir(data_dir)\n",
        "\n",
        "for folder in glob.glob(detector + \"*\"):\n",
        "\n",
        "    if \"_TF_samples\" in folder:\n",
        "      continue\n",
        "    else:\n",
        "      seg_subdir = data_dir + folder + \"/\"\n",
        "      #print(\"GPS segment:\", folder[3:])\n",
        "      #print(\"---------------------------\")\n",
        "      #print(seg_subdir)\n",
        "\n",
        "    os.chdir(seg_subdir)\n",
        "\n",
        "    for subfolder in glob.glob(\"wfclass_\"+sample_class):\n",
        "\n",
        "      seg_subsubdir = seg_subdir + subfolder\n",
        "      #print(seg_subsubdir)\n",
        "\n",
        "      os.chdir(seg_subsubdir)\n",
        "\n",
        "      Models = []\n",
        "\n",
        "      for subsubfolder in glob.glob(\"*_*\"):\n",
        "        Models.append(subsubfolder)\n",
        "\n",
        "      print(\"Available CCSNe waveform models of class\", sample_class)\n",
        "\n",
        "      for i in range(len(Models)):\n",
        "        print(Models[i], \"  |  Input option :\", i)\n",
        "        print(\"\")\n",
        "\n",
        "    break\n",
        "\n",
        "nfile_i = input(\"======> Enter your option: \")\n",
        "nfile_i = int(nfile_i)\n",
        "print(\"\")\n",
        "\n",
        "# ------> Create folders to save samples\n",
        "\n",
        "dir_TFsamples = data_dir\n",
        "\n",
        "# Folder for detector\n",
        "dir_TFsamples = dir_TFsamples + detector + \"_TF_samples_c\" + sample_class\n",
        "\n",
        "if not os.path.isdir(dir_TFsamples):\n",
        "    os.makedirs(dir_TFsamples)\n",
        "\n",
        "# Subfolder for model\n",
        "\n",
        "dir_TFsamples = dir_TFsamples + \"/\" + Models[nfile_i]\n",
        "\n",
        "if not os.path.isdir(dir_TFsamples):\n",
        "    os.makedirs(dir_TFsamples)\n",
        "\n",
        "# ------> Set location of the folder\n",
        "\n",
        "os.chdir(dir_TFsamples)\n",
        "print(\"Directory to save images:\", dir_TFsamples)"
      ]
    },
    {
      "cell_type": "code",
      "execution_count": null,
      "metadata": {
        "id": "JtdoMqQ9TbHj"
      },
      "outputs": [],
      "source": [
        "# ------> Save new log data file\n",
        "\n",
        "np.save('log_TFsamples', logdata)"
      ]
    },
    {
      "cell_type": "code",
      "execution_count": null,
      "metadata": {
        "colab": {
          "base_uri": "https://localhost:8080/"
        },
        "id": "YdUkW1tCwz0B",
        "outputId": "e0a60355-128f-43dc-f10b-5e44057ae13f"
      },
      "outputs": [
        {
          "metadata": {
            "tags": null
          },
          "name": "stdout",
          "output_type": "stream",
          "text": [
            "Converting window sample  0\n"
          ]
        },
        {
          "metadata": {
            "tags": null
          },
          "name": "stderr",
          "output_type": "stream",
          "text": [
            "<ipython-input-31-70c9f80e4546>:150: DeprecationWarning: Conversion of an array with ndim > 0 to a scalar is deprecated, and will error in future. Ensure you extract a single element from your array before performing this operation. (Deprecated NumPy 1.25.)\n",
            "  t = np.arange(-3.5 * st, 3.5 * st + ts, ts)\n"
          ]
        },
        {
          "metadata": {
            "tags": null
          },
          "name": "stdout",
          "output_type": "stream",
          "text": [
            "Converting window sample  1\n"
          ]
        },
        {
          "metadata": {
            "tags": null
          },
          "name": "stderr",
          "output_type": "stream",
          "text": [
            "<ipython-input-31-70c9f80e4546>:150: DeprecationWarning: Conversion of an array with ndim > 0 to a scalar is deprecated, and will error in future. Ensure you extract a single element from your array before performing this operation. (Deprecated NumPy 1.25.)\n",
            "  t = np.arange(-3.5 * st, 3.5 * st + ts, ts)\n"
          ]
        },
        {
          "metadata": {
            "tags": null
          },
          "name": "stdout",
          "output_type": "stream",
          "text": [
            "Converting window sample  2\n"
          ]
        },
        {
          "metadata": {
            "tags": null
          },
          "name": "stderr",
          "output_type": "stream",
          "text": [
            "<ipython-input-31-70c9f80e4546>:150: DeprecationWarning: Conversion of an array with ndim > 0 to a scalar is deprecated, and will error in future. Ensure you extract a single element from your array before performing this operation. (Deprecated NumPy 1.25.)\n",
            "  t = np.arange(-3.5 * st, 3.5 * st + ts, ts)\n"
          ]
        },
        {
          "metadata": {
            "tags": null
          },
          "name": "stdout",
          "output_type": "stream",
          "text": [
            "Converting window sample  3\n"
          ]
        },
        {
          "metadata": {
            "tags": null
          },
          "name": "stderr",
          "output_type": "stream",
          "text": [
            "<ipython-input-31-70c9f80e4546>:150: DeprecationWarning: Conversion of an array with ndim > 0 to a scalar is deprecated, and will error in future. Ensure you extract a single element from your array before performing this operation. (Deprecated NumPy 1.25.)\n",
            "  t = np.arange(-3.5 * st, 3.5 * st + ts, ts)\n"
          ]
        },
        {
          "metadata": {
            "tags": null
          },
          "name": "stdout",
          "output_type": "stream",
          "text": [
            "Converting window sample  4\n"
          ]
        },
        {
          "metadata": {
            "tags": null
          },
          "name": "stderr",
          "output_type": "stream",
          "text": [
            "<ipython-input-31-70c9f80e4546>:150: DeprecationWarning: Conversion of an array with ndim > 0 to a scalar is deprecated, and will error in future. Ensure you extract a single element from your array before performing this operation. (Deprecated NumPy 1.25.)\n",
            "  t = np.arange(-3.5 * st, 3.5 * st + ts, ts)\n"
          ]
        },
        {
          "metadata": {
            "tags": null
          },
          "name": "stdout",
          "output_type": "stream",
          "text": [
            "Converting window sample  5\n"
          ]
        },
        {
          "metadata": {
            "tags": null
          },
          "name": "stderr",
          "output_type": "stream",
          "text": [
            "<ipython-input-31-70c9f80e4546>:150: DeprecationWarning: Conversion of an array with ndim > 0 to a scalar is deprecated, and will error in future. Ensure you extract a single element from your array before performing this operation. (Deprecated NumPy 1.25.)\n",
            "  t = np.arange(-3.5 * st, 3.5 * st + ts, ts)\n"
          ]
        },
        {
          "metadata": {
            "tags": null
          },
          "name": "stdout",
          "output_type": "stream",
          "text": [
            "Converting window sample  6\n"
          ]
        },
        {
          "metadata": {
            "tags": null
          },
          "name": "stderr",
          "output_type": "stream",
          "text": [
            "<ipython-input-31-70c9f80e4546>:150: DeprecationWarning: Conversion of an array with ndim > 0 to a scalar is deprecated, and will error in future. Ensure you extract a single element from your array before performing this operation. (Deprecated NumPy 1.25.)\n",
            "  t = np.arange(-3.5 * st, 3.5 * st + ts, ts)\n"
          ]
        },
        {
          "metadata": {
            "tags": null
          },
          "name": "stdout",
          "output_type": "stream",
          "text": [
            "Converting window sample  7\n"
          ]
        },
        {
          "metadata": {
            "tags": null
          },
          "name": "stderr",
          "output_type": "stream",
          "text": [
            "<ipython-input-31-70c9f80e4546>:150: DeprecationWarning: Conversion of an array with ndim > 0 to a scalar is deprecated, and will error in future. Ensure you extract a single element from your array before performing this operation. (Deprecated NumPy 1.25.)\n",
            "  t = np.arange(-3.5 * st, 3.5 * st + ts, ts)\n"
          ]
        },
        {
          "metadata": {
            "tags": null
          },
          "name": "stdout",
          "output_type": "stream",
          "text": [
            "Converting window sample  8\n"
          ]
        },
        {
          "metadata": {
            "tags": null
          },
          "name": "stderr",
          "output_type": "stream",
          "text": [
            "<ipython-input-31-70c9f80e4546>:150: DeprecationWarning: Conversion of an array with ndim > 0 to a scalar is deprecated, and will error in future. Ensure you extract a single element from your array before performing this operation. (Deprecated NumPy 1.25.)\n",
            "  t = np.arange(-3.5 * st, 3.5 * st + ts, ts)\n"
          ]
        },
        {
          "metadata": {
            "tags": null
          },
          "name": "stdout",
          "output_type": "stream",
          "text": [
            "Converting window sample  9\n"
          ]
        },
        {
          "metadata": {
            "tags": null
          },
          "name": "stderr",
          "output_type": "stream",
          "text": [
            "<ipython-input-31-70c9f80e4546>:150: DeprecationWarning: Conversion of an array with ndim > 0 to a scalar is deprecated, and will error in future. Ensure you extract a single element from your array before performing this operation. (Deprecated NumPy 1.25.)\n",
            "  t = np.arange(-3.5 * st, 3.5 * st + ts, ts)\n"
          ]
        },
        {
          "metadata": {
            "tags": null
          },
          "name": "stdout",
          "output_type": "stream",
          "text": [
            "Converting window sample  10\n"
          ]
        },
        {
          "metadata": {
            "tags": null
          },
          "name": "stderr",
          "output_type": "stream",
          "text": [
            "<ipython-input-31-70c9f80e4546>:150: DeprecationWarning: Conversion of an array with ndim > 0 to a scalar is deprecated, and will error in future. Ensure you extract a single element from your array before performing this operation. (Deprecated NumPy 1.25.)\n",
            "  t = np.arange(-3.5 * st, 3.5 * st + ts, ts)\n"
          ]
        },
        {
          "metadata": {
            "tags": null
          },
          "name": "stdout",
          "output_type": "stream",
          "text": [
            "Converting window sample  11\n"
          ]
        },
        {
          "metadata": {
            "tags": null
          },
          "name": "stderr",
          "output_type": "stream",
          "text": [
            "<ipython-input-31-70c9f80e4546>:150: DeprecationWarning: Conversion of an array with ndim > 0 to a scalar is deprecated, and will error in future. Ensure you extract a single element from your array before performing this operation. (Deprecated NumPy 1.25.)\n",
            "  t = np.arange(-3.5 * st, 3.5 * st + ts, ts)\n"
          ]
        },
        {
          "metadata": {
            "tags": null
          },
          "name": "stdout",
          "output_type": "stream",
          "text": [
            "Converting window sample  12\n"
          ]
        },
        {
          "metadata": {
            "tags": null
          },
          "name": "stderr",
          "output_type": "stream",
          "text": [
            "<ipython-input-31-70c9f80e4546>:150: DeprecationWarning: Conversion of an array with ndim > 0 to a scalar is deprecated, and will error in future. Ensure you extract a single element from your array before performing this operation. (Deprecated NumPy 1.25.)\n",
            "  t = np.arange(-3.5 * st, 3.5 * st + ts, ts)\n"
          ]
        },
        {
          "metadata": {
            "tags": null
          },
          "name": "stdout",
          "output_type": "stream",
          "text": [
            "Converting window sample  13\n"
          ]
        },
        {
          "metadata": {
            "tags": null
          },
          "name": "stderr",
          "output_type": "stream",
          "text": [
            "<ipython-input-31-70c9f80e4546>:150: DeprecationWarning: Conversion of an array with ndim > 0 to a scalar is deprecated, and will error in future. Ensure you extract a single element from your array before performing this operation. (Deprecated NumPy 1.25.)\n",
            "  t = np.arange(-3.5 * st, 3.5 * st + ts, ts)\n"
          ]
        },
        {
          "metadata": {
            "tags": null
          },
          "name": "stdout",
          "output_type": "stream",
          "text": [
            "Converting window sample  14\n"
          ]
        },
        {
          "metadata": {
            "tags": null
          },
          "name": "stderr",
          "output_type": "stream",
          "text": [
            "<ipython-input-31-70c9f80e4546>:150: DeprecationWarning: Conversion of an array with ndim > 0 to a scalar is deprecated, and will error in future. Ensure you extract a single element from your array before performing this operation. (Deprecated NumPy 1.25.)\n",
            "  t = np.arange(-3.5 * st, 3.5 * st + ts, ts)\n"
          ]
        },
        {
          "metadata": {
            "tags": null
          },
          "name": "stdout",
          "output_type": "stream",
          "text": [
            "Converting window sample  15\n"
          ]
        },
        {
          "metadata": {
            "tags": null
          },
          "name": "stderr",
          "output_type": "stream",
          "text": [
            "<ipython-input-31-70c9f80e4546>:150: DeprecationWarning: Conversion of an array with ndim > 0 to a scalar is deprecated, and will error in future. Ensure you extract a single element from your array before performing this operation. (Deprecated NumPy 1.25.)\n",
            "  t = np.arange(-3.5 * st, 3.5 * st + ts, ts)\n"
          ]
        },
        {
          "metadata": {
            "tags": null
          },
          "name": "stdout",
          "output_type": "stream",
          "text": [
            "Converting window sample  16\n"
          ]
        },
        {
          "metadata": {
            "tags": null
          },
          "name": "stderr",
          "output_type": "stream",
          "text": [
            "<ipython-input-31-70c9f80e4546>:150: DeprecationWarning: Conversion of an array with ndim > 0 to a scalar is deprecated, and will error in future. Ensure you extract a single element from your array before performing this operation. (Deprecated NumPy 1.25.)\n",
            "  t = np.arange(-3.5 * st, 3.5 * st + ts, ts)\n"
          ]
        },
        {
          "metadata": {
            "tags": null
          },
          "name": "stdout",
          "output_type": "stream",
          "text": [
            "Converting window sample  17\n"
          ]
        },
        {
          "metadata": {
            "tags": null
          },
          "name": "stderr",
          "output_type": "stream",
          "text": [
            "<ipython-input-31-70c9f80e4546>:150: DeprecationWarning: Conversion of an array with ndim > 0 to a scalar is deprecated, and will error in future. Ensure you extract a single element from your array before performing this operation. (Deprecated NumPy 1.25.)\n",
            "  t = np.arange(-3.5 * st, 3.5 * st + ts, ts)\n"
          ]
        },
        {
          "metadata": {
            "tags": null
          },
          "name": "stdout",
          "output_type": "stream",
          "text": [
            "Converting window sample  18\n"
          ]
        },
        {
          "metadata": {
            "tags": null
          },
          "name": "stderr",
          "output_type": "stream",
          "text": [
            "<ipython-input-31-70c9f80e4546>:150: DeprecationWarning: Conversion of an array with ndim > 0 to a scalar is deprecated, and will error in future. Ensure you extract a single element from your array before performing this operation. (Deprecated NumPy 1.25.)\n",
            "  t = np.arange(-3.5 * st, 3.5 * st + ts, ts)\n"
          ]
        },
        {
          "metadata": {
            "tags": null
          },
          "name": "stdout",
          "output_type": "stream",
          "text": [
            "Converting window sample  19\n"
          ]
        },
        {
          "metadata": {
            "tags": null
          },
          "name": "stderr",
          "output_type": "stream",
          "text": [
            "<ipython-input-31-70c9f80e4546>:150: DeprecationWarning: Conversion of an array with ndim > 0 to a scalar is deprecated, and will error in future. Ensure you extract a single element from your array before performing this operation. (Deprecated NumPy 1.25.)\n",
            "  t = np.arange(-3.5 * st, 3.5 * st + ts, ts)\n"
          ]
        },
        {
          "metadata": {
            "tags": null
          },
          "name": "stdout",
          "output_type": "stream",
          "text": [
            "Converting window sample  20\n"
          ]
        },
        {
          "metadata": {
            "tags": null
          },
          "name": "stderr",
          "output_type": "stream",
          "text": [
            "<ipython-input-31-70c9f80e4546>:150: DeprecationWarning: Conversion of an array with ndim > 0 to a scalar is deprecated, and will error in future. Ensure you extract a single element from your array before performing this operation. (Deprecated NumPy 1.25.)\n",
            "  t = np.arange(-3.5 * st, 3.5 * st + ts, ts)\n"
          ]
        },
        {
          "metadata": {
            "tags": null
          },
          "name": "stdout",
          "output_type": "stream",
          "text": [
            "Converting window sample  21\n"
          ]
        },
        {
          "metadata": {
            "tags": null
          },
          "name": "stderr",
          "output_type": "stream",
          "text": [
            "<ipython-input-31-70c9f80e4546>:150: DeprecationWarning: Conversion of an array with ndim > 0 to a scalar is deprecated, and will error in future. Ensure you extract a single element from your array before performing this operation. (Deprecated NumPy 1.25.)\n",
            "  t = np.arange(-3.5 * st, 3.5 * st + ts, ts)\n"
          ]
        },
        {
          "metadata": {
            "tags": null
          },
          "name": "stdout",
          "output_type": "stream",
          "text": [
            "Converting window sample  22\n"
          ]
        },
        {
          "metadata": {
            "tags": null
          },
          "name": "stderr",
          "output_type": "stream",
          "text": [
            "<ipython-input-31-70c9f80e4546>:150: DeprecationWarning: Conversion of an array with ndim > 0 to a scalar is deprecated, and will error in future. Ensure you extract a single element from your array before performing this operation. (Deprecated NumPy 1.25.)\n",
            "  t = np.arange(-3.5 * st, 3.5 * st + ts, ts)\n"
          ]
        },
        {
          "metadata": {
            "tags": null
          },
          "name": "stdout",
          "output_type": "stream",
          "text": [
            "Converting window sample  23\n"
          ]
        },
        {
          "metadata": {
            "tags": null
          },
          "name": "stderr",
          "output_type": "stream",
          "text": [
            "<ipython-input-31-70c9f80e4546>:150: DeprecationWarning: Conversion of an array with ndim > 0 to a scalar is deprecated, and will error in future. Ensure you extract a single element from your array before performing this operation. (Deprecated NumPy 1.25.)\n",
            "  t = np.arange(-3.5 * st, 3.5 * st + ts, ts)\n"
          ]
        },
        {
          "metadata": {
            "tags": null
          },
          "name": "stdout",
          "output_type": "stream",
          "text": [
            "Converting window sample  24\n"
          ]
        },
        {
          "metadata": {
            "tags": null
          },
          "name": "stderr",
          "output_type": "stream",
          "text": [
            "<ipython-input-31-70c9f80e4546>:150: DeprecationWarning: Conversion of an array with ndim > 0 to a scalar is deprecated, and will error in future. Ensure you extract a single element from your array before performing this operation. (Deprecated NumPy 1.25.)\n",
            "  t = np.arange(-3.5 * st, 3.5 * st + ts, ts)\n"
          ]
        },
        {
          "metadata": {
            "tags": null
          },
          "name": "stdout",
          "output_type": "stream",
          "text": [
            "Converting window sample  25\n"
          ]
        },
        {
          "metadata": {
            "tags": null
          },
          "name": "stderr",
          "output_type": "stream",
          "text": [
            "<ipython-input-31-70c9f80e4546>:150: DeprecationWarning: Conversion of an array with ndim > 0 to a scalar is deprecated, and will error in future. Ensure you extract a single element from your array before performing this operation. (Deprecated NumPy 1.25.)\n",
            "  t = np.arange(-3.5 * st, 3.5 * st + ts, ts)\n"
          ]
        },
        {
          "metadata": {
            "tags": null
          },
          "name": "stdout",
          "output_type": "stream",
          "text": [
            "Converting window sample  26\n"
          ]
        },
        {
          "metadata": {
            "tags": null
          },
          "name": "stderr",
          "output_type": "stream",
          "text": [
            "<ipython-input-31-70c9f80e4546>:150: DeprecationWarning: Conversion of an array with ndim > 0 to a scalar is deprecated, and will error in future. Ensure you extract a single element from your array before performing this operation. (Deprecated NumPy 1.25.)\n",
            "  t = np.arange(-3.5 * st, 3.5 * st + ts, ts)\n"
          ]
        },
        {
          "metadata": {
            "tags": null
          },
          "name": "stdout",
          "output_type": "stream",
          "text": [
            "Converting window sample  27\n"
          ]
        },
        {
          "metadata": {
            "tags": null
          },
          "name": "stderr",
          "output_type": "stream",
          "text": [
            "<ipython-input-31-70c9f80e4546>:150: DeprecationWarning: Conversion of an array with ndim > 0 to a scalar is deprecated, and will error in future. Ensure you extract a single element from your array before performing this operation. (Deprecated NumPy 1.25.)\n",
            "  t = np.arange(-3.5 * st, 3.5 * st + ts, ts)\n"
          ]
        },
        {
          "metadata": {
            "tags": null
          },
          "name": "stdout",
          "output_type": "stream",
          "text": [
            "Converting window sample  28\n"
          ]
        },
        {
          "metadata": {
            "tags": null
          },
          "name": "stderr",
          "output_type": "stream",
          "text": [
            "<ipython-input-31-70c9f80e4546>:150: DeprecationWarning: Conversion of an array with ndim > 0 to a scalar is deprecated, and will error in future. Ensure you extract a single element from your array before performing this operation. (Deprecated NumPy 1.25.)\n",
            "  t = np.arange(-3.5 * st, 3.5 * st + ts, ts)\n"
          ]
        },
        {
          "metadata": {
            "tags": null
          },
          "name": "stdout",
          "output_type": "stream",
          "text": [
            "Converting window sample  29\n"
          ]
        },
        {
          "metadata": {
            "tags": null
          },
          "name": "stderr",
          "output_type": "stream",
          "text": [
            "<ipython-input-31-70c9f80e4546>:150: DeprecationWarning: Conversion of an array with ndim > 0 to a scalar is deprecated, and will error in future. Ensure you extract a single element from your array before performing this operation. (Deprecated NumPy 1.25.)\n",
            "  t = np.arange(-3.5 * st, 3.5 * st + ts, ts)\n"
          ]
        },
        {
          "metadata": {
            "tags": null
          },
          "name": "stdout",
          "output_type": "stream",
          "text": [
            "Converting window sample  30\n"
          ]
        },
        {
          "metadata": {
            "tags": null
          },
          "name": "stderr",
          "output_type": "stream",
          "text": [
            "<ipython-input-31-70c9f80e4546>:150: DeprecationWarning: Conversion of an array with ndim > 0 to a scalar is deprecated, and will error in future. Ensure you extract a single element from your array before performing this operation. (Deprecated NumPy 1.25.)\n",
            "  t = np.arange(-3.5 * st, 3.5 * st + ts, ts)\n"
          ]
        },
        {
          "metadata": {
            "tags": null
          },
          "name": "stdout",
          "output_type": "stream",
          "text": [
            "Converting window sample  31\n"
          ]
        },
        {
          "metadata": {
            "tags": null
          },
          "name": "stderr",
          "output_type": "stream",
          "text": [
            "<ipython-input-31-70c9f80e4546>:150: DeprecationWarning: Conversion of an array with ndim > 0 to a scalar is deprecated, and will error in future. Ensure you extract a single element from your array before performing this operation. (Deprecated NumPy 1.25.)\n",
            "  t = np.arange(-3.5 * st, 3.5 * st + ts, ts)\n"
          ]
        },
        {
          "metadata": {
            "tags": null
          },
          "name": "stdout",
          "output_type": "stream",
          "text": [
            "Converting window sample  32\n"
          ]
        },
        {
          "metadata": {
            "tags": null
          },
          "name": "stderr",
          "output_type": "stream",
          "text": [
            "<ipython-input-31-70c9f80e4546>:150: DeprecationWarning: Conversion of an array with ndim > 0 to a scalar is deprecated, and will error in future. Ensure you extract a single element from your array before performing this operation. (Deprecated NumPy 1.25.)\n",
            "  t = np.arange(-3.5 * st, 3.5 * st + ts, ts)\n"
          ]
        },
        {
          "metadata": {
            "tags": null
          },
          "name": "stdout",
          "output_type": "stream",
          "text": [
            "Converting window sample  33\n"
          ]
        },
        {
          "metadata": {
            "tags": null
          },
          "name": "stderr",
          "output_type": "stream",
          "text": [
            "<ipython-input-31-70c9f80e4546>:150: DeprecationWarning: Conversion of an array with ndim > 0 to a scalar is deprecated, and will error in future. Ensure you extract a single element from your array before performing this operation. (Deprecated NumPy 1.25.)\n",
            "  t = np.arange(-3.5 * st, 3.5 * st + ts, ts)\n"
          ]
        },
        {
          "metadata": {
            "tags": null
          },
          "name": "stdout",
          "output_type": "stream",
          "text": [
            "Converting window sample  34\n"
          ]
        },
        {
          "metadata": {
            "tags": null
          },
          "name": "stderr",
          "output_type": "stream",
          "text": [
            "<ipython-input-31-70c9f80e4546>:150: DeprecationWarning: Conversion of an array with ndim > 0 to a scalar is deprecated, and will error in future. Ensure you extract a single element from your array before performing this operation. (Deprecated NumPy 1.25.)\n",
            "  t = np.arange(-3.5 * st, 3.5 * st + ts, ts)\n"
          ]
        },
        {
          "metadata": {
            "tags": null
          },
          "name": "stdout",
          "output_type": "stream",
          "text": [
            "Converting window sample  35\n"
          ]
        },
        {
          "metadata": {
            "tags": null
          },
          "name": "stderr",
          "output_type": "stream",
          "text": [
            "<ipython-input-31-70c9f80e4546>:150: DeprecationWarning: Conversion of an array with ndim > 0 to a scalar is deprecated, and will error in future. Ensure you extract a single element from your array before performing this operation. (Deprecated NumPy 1.25.)\n",
            "  t = np.arange(-3.5 * st, 3.5 * st + ts, ts)\n"
          ]
        },
        {
          "metadata": {
            "tags": null
          },
          "name": "stdout",
          "output_type": "stream",
          "text": [
            "Converting window sample  36\n"
          ]
        },
        {
          "metadata": {
            "tags": null
          },
          "name": "stderr",
          "output_type": "stream",
          "text": [
            "<ipython-input-31-70c9f80e4546>:150: DeprecationWarning: Conversion of an array with ndim > 0 to a scalar is deprecated, and will error in future. Ensure you extract a single element from your array before performing this operation. (Deprecated NumPy 1.25.)\n",
            "  t = np.arange(-3.5 * st, 3.5 * st + ts, ts)\n"
          ]
        },
        {
          "metadata": {
            "tags": null
          },
          "name": "stdout",
          "output_type": "stream",
          "text": [
            "Converting window sample  37\n"
          ]
        },
        {
          "metadata": {
            "tags": null
          },
          "name": "stderr",
          "output_type": "stream",
          "text": [
            "<ipython-input-31-70c9f80e4546>:150: DeprecationWarning: Conversion of an array with ndim > 0 to a scalar is deprecated, and will error in future. Ensure you extract a single element from your array before performing this operation. (Deprecated NumPy 1.25.)\n",
            "  t = np.arange(-3.5 * st, 3.5 * st + ts, ts)\n"
          ]
        },
        {
          "metadata": {
            "tags": null
          },
          "name": "stdout",
          "output_type": "stream",
          "text": [
            "Converting window sample  38\n"
          ]
        },
        {
          "metadata": {
            "tags": null
          },
          "name": "stderr",
          "output_type": "stream",
          "text": [
            "<ipython-input-31-70c9f80e4546>:150: DeprecationWarning: Conversion of an array with ndim > 0 to a scalar is deprecated, and will error in future. Ensure you extract a single element from your array before performing this operation. (Deprecated NumPy 1.25.)\n",
            "  t = np.arange(-3.5 * st, 3.5 * st + ts, ts)\n"
          ]
        },
        {
          "metadata": {
            "tags": null
          },
          "name": "stdout",
          "output_type": "stream",
          "text": [
            "Converting window sample  39\n"
          ]
        },
        {
          "metadata": {
            "tags": null
          },
          "name": "stderr",
          "output_type": "stream",
          "text": [
            "<ipython-input-31-70c9f80e4546>:150: DeprecationWarning: Conversion of an array with ndim > 0 to a scalar is deprecated, and will error in future. Ensure you extract a single element from your array before performing this operation. (Deprecated NumPy 1.25.)\n",
            "  t = np.arange(-3.5 * st, 3.5 * st + ts, ts)\n"
          ]
        },
        {
          "metadata": {
            "tags": null
          },
          "name": "stdout",
          "output_type": "stream",
          "text": [
            "Converting window sample  40\n"
          ]
        },
        {
          "metadata": {
            "tags": null
          },
          "name": "stderr",
          "output_type": "stream",
          "text": [
            "<ipython-input-31-70c9f80e4546>:150: DeprecationWarning: Conversion of an array with ndim > 0 to a scalar is deprecated, and will error in future. Ensure you extract a single element from your array before performing this operation. (Deprecated NumPy 1.25.)\n",
            "  t = np.arange(-3.5 * st, 3.5 * st + ts, ts)\n"
          ]
        },
        {
          "metadata": {
            "tags": null
          },
          "name": "stdout",
          "output_type": "stream",
          "text": [
            "Converting window sample  41\n"
          ]
        },
        {
          "metadata": {
            "tags": null
          },
          "name": "stderr",
          "output_type": "stream",
          "text": [
            "<ipython-input-31-70c9f80e4546>:150: DeprecationWarning: Conversion of an array with ndim > 0 to a scalar is deprecated, and will error in future. Ensure you extract a single element from your array before performing this operation. (Deprecated NumPy 1.25.)\n",
            "  t = np.arange(-3.5 * st, 3.5 * st + ts, ts)\n"
          ]
        },
        {
          "metadata": {
            "tags": null
          },
          "name": "stdout",
          "output_type": "stream",
          "text": [
            "Converting window sample  42\n"
          ]
        },
        {
          "metadata": {
            "tags": null
          },
          "name": "stderr",
          "output_type": "stream",
          "text": [
            "<ipython-input-31-70c9f80e4546>:150: DeprecationWarning: Conversion of an array with ndim > 0 to a scalar is deprecated, and will error in future. Ensure you extract a single element from your array before performing this operation. (Deprecated NumPy 1.25.)\n",
            "  t = np.arange(-3.5 * st, 3.5 * st + ts, ts)\n"
          ]
        },
        {
          "metadata": {
            "tags": null
          },
          "name": "stdout",
          "output_type": "stream",
          "text": [
            "Converting window sample  43\n"
          ]
        },
        {
          "metadata": {
            "tags": null
          },
          "name": "stderr",
          "output_type": "stream",
          "text": [
            "<ipython-input-31-70c9f80e4546>:150: DeprecationWarning: Conversion of an array with ndim > 0 to a scalar is deprecated, and will error in future. Ensure you extract a single element from your array before performing this operation. (Deprecated NumPy 1.25.)\n",
            "  t = np.arange(-3.5 * st, 3.5 * st + ts, ts)\n"
          ]
        },
        {
          "metadata": {
            "tags": null
          },
          "name": "stdout",
          "output_type": "stream",
          "text": [
            "Converting window sample  44\n"
          ]
        },
        {
          "metadata": {
            "tags": null
          },
          "name": "stderr",
          "output_type": "stream",
          "text": [
            "<ipython-input-31-70c9f80e4546>:150: DeprecationWarning: Conversion of an array with ndim > 0 to a scalar is deprecated, and will error in future. Ensure you extract a single element from your array before performing this operation. (Deprecated NumPy 1.25.)\n",
            "  t = np.arange(-3.5 * st, 3.5 * st + ts, ts)\n"
          ]
        },
        {
          "metadata": {
            "tags": null
          },
          "name": "stdout",
          "output_type": "stream",
          "text": [
            "Converting window sample  45\n"
          ]
        },
        {
          "metadata": {
            "tags": null
          },
          "name": "stderr",
          "output_type": "stream",
          "text": [
            "<ipython-input-31-70c9f80e4546>:150: DeprecationWarning: Conversion of an array with ndim > 0 to a scalar is deprecated, and will error in future. Ensure you extract a single element from your array before performing this operation. (Deprecated NumPy 1.25.)\n",
            "  t = np.arange(-3.5 * st, 3.5 * st + ts, ts)\n"
          ]
        },
        {
          "metadata": {
            "tags": null
          },
          "name": "stdout",
          "output_type": "stream",
          "text": [
            "Converting window sample  46\n"
          ]
        },
        {
          "metadata": {
            "tags": null
          },
          "name": "stderr",
          "output_type": "stream",
          "text": [
            "<ipython-input-31-70c9f80e4546>:150: DeprecationWarning: Conversion of an array with ndim > 0 to a scalar is deprecated, and will error in future. Ensure you extract a single element from your array before performing this operation. (Deprecated NumPy 1.25.)\n",
            "  t = np.arange(-3.5 * st, 3.5 * st + ts, ts)\n"
          ]
        },
        {
          "metadata": {
            "tags": null
          },
          "name": "stdout",
          "output_type": "stream",
          "text": [
            "Converting window sample  47\n"
          ]
        },
        {
          "metadata": {
            "tags": null
          },
          "name": "stderr",
          "output_type": "stream",
          "text": [
            "<ipython-input-31-70c9f80e4546>:150: DeprecationWarning: Conversion of an array with ndim > 0 to a scalar is deprecated, and will error in future. Ensure you extract a single element from your array before performing this operation. (Deprecated NumPy 1.25.)\n",
            "  t = np.arange(-3.5 * st, 3.5 * st + ts, ts)\n"
          ]
        },
        {
          "output_type": "stream",
          "name": "stdout",
          "text": [
            "Converting window sample  48\n"
          ]
        },
        {
          "output_type": "stream",
          "name": "stderr",
          "text": [
            "<ipython-input-31-70c9f80e4546>:150: DeprecationWarning: Conversion of an array with ndim > 0 to a scalar is deprecated, and will error in future. Ensure you extract a single element from your array before performing this operation. (Deprecated NumPy 1.25.)\n",
            "  t = np.arange(-3.5 * st, 3.5 * st + ts, ts)\n"
          ]
        },
        {
          "output_type": "stream",
          "name": "stdout",
          "text": [
            "Converting window sample  49\n"
          ]
        },
        {
          "output_type": "stream",
          "name": "stderr",
          "text": [
            "<ipython-input-31-70c9f80e4546>:150: DeprecationWarning: Conversion of an array with ndim > 0 to a scalar is deprecated, and will error in future. Ensure you extract a single element from your array before performing this operation. (Deprecated NumPy 1.25.)\n",
            "  t = np.arange(-3.5 * st, 3.5 * st + ts, ts)\n"
          ]
        },
        {
          "output_type": "stream",
          "name": "stdout",
          "text": [
            "Converting window sample  50\n"
          ]
        },
        {
          "output_type": "stream",
          "name": "stderr",
          "text": [
            "<ipython-input-31-70c9f80e4546>:150: DeprecationWarning: Conversion of an array with ndim > 0 to a scalar is deprecated, and will error in future. Ensure you extract a single element from your array before performing this operation. (Deprecated NumPy 1.25.)\n",
            "  t = np.arange(-3.5 * st, 3.5 * st + ts, ts)\n"
          ]
        },
        {
          "output_type": "stream",
          "name": "stdout",
          "text": [
            "Converting window sample  51\n"
          ]
        },
        {
          "output_type": "stream",
          "name": "stderr",
          "text": [
            "<ipython-input-31-70c9f80e4546>:150: DeprecationWarning: Conversion of an array with ndim > 0 to a scalar is deprecated, and will error in future. Ensure you extract a single element from your array before performing this operation. (Deprecated NumPy 1.25.)\n",
            "  t = np.arange(-3.5 * st, 3.5 * st + ts, ts)\n"
          ]
        },
        {
          "output_type": "stream",
          "name": "stdout",
          "text": [
            "Converting window sample  52\n"
          ]
        },
        {
          "output_type": "stream",
          "name": "stderr",
          "text": [
            "<ipython-input-31-70c9f80e4546>:150: DeprecationWarning: Conversion of an array with ndim > 0 to a scalar is deprecated, and will error in future. Ensure you extract a single element from your array before performing this operation. (Deprecated NumPy 1.25.)\n",
            "  t = np.arange(-3.5 * st, 3.5 * st + ts, ts)\n"
          ]
        },
        {
          "output_type": "stream",
          "name": "stdout",
          "text": [
            "Converting window sample  53\n"
          ]
        },
        {
          "output_type": "stream",
          "name": "stderr",
          "text": [
            "<ipython-input-31-70c9f80e4546>:150: DeprecationWarning: Conversion of an array with ndim > 0 to a scalar is deprecated, and will error in future. Ensure you extract a single element from your array before performing this operation. (Deprecated NumPy 1.25.)\n",
            "  t = np.arange(-3.5 * st, 3.5 * st + ts, ts)\n"
          ]
        },
        {
          "output_type": "stream",
          "name": "stdout",
          "text": [
            "Converting window sample  54\n"
          ]
        },
        {
          "output_type": "stream",
          "name": "stderr",
          "text": [
            "<ipython-input-31-70c9f80e4546>:150: DeprecationWarning: Conversion of an array with ndim > 0 to a scalar is deprecated, and will error in future. Ensure you extract a single element from your array before performing this operation. (Deprecated NumPy 1.25.)\n",
            "  t = np.arange(-3.5 * st, 3.5 * st + ts, ts)\n"
          ]
        },
        {
          "output_type": "stream",
          "name": "stdout",
          "text": [
            "Converting window sample  55\n"
          ]
        },
        {
          "output_type": "stream",
          "name": "stderr",
          "text": [
            "<ipython-input-31-70c9f80e4546>:150: DeprecationWarning: Conversion of an array with ndim > 0 to a scalar is deprecated, and will error in future. Ensure you extract a single element from your array before performing this operation. (Deprecated NumPy 1.25.)\n",
            "  t = np.arange(-3.5 * st, 3.5 * st + ts, ts)\n"
          ]
        },
        {
          "output_type": "stream",
          "name": "stdout",
          "text": [
            "Converting window sample  56\n"
          ]
        },
        {
          "output_type": "stream",
          "name": "stderr",
          "text": [
            "<ipython-input-31-70c9f80e4546>:150: DeprecationWarning: Conversion of an array with ndim > 0 to a scalar is deprecated, and will error in future. Ensure you extract a single element from your array before performing this operation. (Deprecated NumPy 1.25.)\n",
            "  t = np.arange(-3.5 * st, 3.5 * st + ts, ts)\n"
          ]
        },
        {
          "output_type": "stream",
          "name": "stdout",
          "text": [
            "Converting window sample  57\n"
          ]
        },
        {
          "output_type": "stream",
          "name": "stderr",
          "text": [
            "<ipython-input-31-70c9f80e4546>:150: DeprecationWarning: Conversion of an array with ndim > 0 to a scalar is deprecated, and will error in future. Ensure you extract a single element from your array before performing this operation. (Deprecated NumPy 1.25.)\n",
            "  t = np.arange(-3.5 * st, 3.5 * st + ts, ts)\n"
          ]
        },
        {
          "output_type": "stream",
          "name": "stdout",
          "text": [
            "Converting window sample  58\n"
          ]
        },
        {
          "output_type": "stream",
          "name": "stderr",
          "text": [
            "<ipython-input-31-70c9f80e4546>:150: DeprecationWarning: Conversion of an array with ndim > 0 to a scalar is deprecated, and will error in future. Ensure you extract a single element from your array before performing this operation. (Deprecated NumPy 1.25.)\n",
            "  t = np.arange(-3.5 * st, 3.5 * st + ts, ts)\n"
          ]
        },
        {
          "output_type": "stream",
          "name": "stdout",
          "text": [
            "Converting window sample  59\n"
          ]
        },
        {
          "output_type": "stream",
          "name": "stderr",
          "text": [
            "<ipython-input-31-70c9f80e4546>:150: DeprecationWarning: Conversion of an array with ndim > 0 to a scalar is deprecated, and will error in future. Ensure you extract a single element from your array before performing this operation. (Deprecated NumPy 1.25.)\n",
            "  t = np.arange(-3.5 * st, 3.5 * st + ts, ts)\n"
          ]
        },
        {
          "output_type": "stream",
          "name": "stdout",
          "text": [
            "Converting window sample  60\n"
          ]
        },
        {
          "output_type": "stream",
          "name": "stderr",
          "text": [
            "<ipython-input-31-70c9f80e4546>:150: DeprecationWarning: Conversion of an array with ndim > 0 to a scalar is deprecated, and will error in future. Ensure you extract a single element from your array before performing this operation. (Deprecated NumPy 1.25.)\n",
            "  t = np.arange(-3.5 * st, 3.5 * st + ts, ts)\n"
          ]
        },
        {
          "output_type": "stream",
          "name": "stdout",
          "text": [
            "Converting window sample  61\n"
          ]
        },
        {
          "output_type": "stream",
          "name": "stderr",
          "text": [
            "<ipython-input-31-70c9f80e4546>:150: DeprecationWarning: Conversion of an array with ndim > 0 to a scalar is deprecated, and will error in future. Ensure you extract a single element from your array before performing this operation. (Deprecated NumPy 1.25.)\n",
            "  t = np.arange(-3.5 * st, 3.5 * st + ts, ts)\n"
          ]
        },
        {
          "output_type": "stream",
          "name": "stdout",
          "text": [
            "Converting window sample  62\n"
          ]
        },
        {
          "output_type": "stream",
          "name": "stderr",
          "text": [
            "<ipython-input-31-70c9f80e4546>:150: DeprecationWarning: Conversion of an array with ndim > 0 to a scalar is deprecated, and will error in future. Ensure you extract a single element from your array before performing this operation. (Deprecated NumPy 1.25.)\n",
            "  t = np.arange(-3.5 * st, 3.5 * st + ts, ts)\n"
          ]
        },
        {
          "output_type": "stream",
          "name": "stdout",
          "text": [
            "Converting window sample  63\n"
          ]
        },
        {
          "output_type": "stream",
          "name": "stderr",
          "text": [
            "<ipython-input-31-70c9f80e4546>:150: DeprecationWarning: Conversion of an array with ndim > 0 to a scalar is deprecated, and will error in future. Ensure you extract a single element from your array before performing this operation. (Deprecated NumPy 1.25.)\n",
            "  t = np.arange(-3.5 * st, 3.5 * st + ts, ts)\n"
          ]
        },
        {
          "output_type": "stream",
          "name": "stdout",
          "text": [
            "Converting window sample  64\n"
          ]
        },
        {
          "output_type": "stream",
          "name": "stderr",
          "text": [
            "<ipython-input-31-70c9f80e4546>:150: DeprecationWarning: Conversion of an array with ndim > 0 to a scalar is deprecated, and will error in future. Ensure you extract a single element from your array before performing this operation. (Deprecated NumPy 1.25.)\n",
            "  t = np.arange(-3.5 * st, 3.5 * st + ts, ts)\n"
          ]
        },
        {
          "output_type": "stream",
          "name": "stdout",
          "text": [
            "Converting window sample  65\n"
          ]
        },
        {
          "output_type": "stream",
          "name": "stderr",
          "text": [
            "<ipython-input-31-70c9f80e4546>:150: DeprecationWarning: Conversion of an array with ndim > 0 to a scalar is deprecated, and will error in future. Ensure you extract a single element from your array before performing this operation. (Deprecated NumPy 1.25.)\n",
            "  t = np.arange(-3.5 * st, 3.5 * st + ts, ts)\n"
          ]
        },
        {
          "output_type": "stream",
          "name": "stdout",
          "text": [
            "Converting window sample  66\n"
          ]
        },
        {
          "output_type": "stream",
          "name": "stderr",
          "text": [
            "<ipython-input-31-70c9f80e4546>:150: DeprecationWarning: Conversion of an array with ndim > 0 to a scalar is deprecated, and will error in future. Ensure you extract a single element from your array before performing this operation. (Deprecated NumPy 1.25.)\n",
            "  t = np.arange(-3.5 * st, 3.5 * st + ts, ts)\n"
          ]
        },
        {
          "output_type": "stream",
          "name": "stdout",
          "text": [
            "Converting window sample  67\n"
          ]
        },
        {
          "output_type": "stream",
          "name": "stderr",
          "text": [
            "<ipython-input-31-70c9f80e4546>:150: DeprecationWarning: Conversion of an array with ndim > 0 to a scalar is deprecated, and will error in future. Ensure you extract a single element from your array before performing this operation. (Deprecated NumPy 1.25.)\n",
            "  t = np.arange(-3.5 * st, 3.5 * st + ts, ts)\n"
          ]
        },
        {
          "output_type": "stream",
          "name": "stdout",
          "text": [
            "Converting window sample  68\n"
          ]
        },
        {
          "output_type": "stream",
          "name": "stderr",
          "text": [
            "<ipython-input-31-70c9f80e4546>:150: DeprecationWarning: Conversion of an array with ndim > 0 to a scalar is deprecated, and will error in future. Ensure you extract a single element from your array before performing this operation. (Deprecated NumPy 1.25.)\n",
            "  t = np.arange(-3.5 * st, 3.5 * st + ts, ts)\n"
          ]
        },
        {
          "output_type": "stream",
          "name": "stdout",
          "text": [
            "Converting window sample  69\n"
          ]
        },
        {
          "output_type": "stream",
          "name": "stderr",
          "text": [
            "<ipython-input-31-70c9f80e4546>:150: DeprecationWarning: Conversion of an array with ndim > 0 to a scalar is deprecated, and will error in future. Ensure you extract a single element from your array before performing this operation. (Deprecated NumPy 1.25.)\n",
            "  t = np.arange(-3.5 * st, 3.5 * st + ts, ts)\n"
          ]
        },
        {
          "output_type": "stream",
          "name": "stdout",
          "text": [
            "Converting window sample  70\n"
          ]
        },
        {
          "output_type": "stream",
          "name": "stderr",
          "text": [
            "<ipython-input-31-70c9f80e4546>:150: DeprecationWarning: Conversion of an array with ndim > 0 to a scalar is deprecated, and will error in future. Ensure you extract a single element from your array before performing this operation. (Deprecated NumPy 1.25.)\n",
            "  t = np.arange(-3.5 * st, 3.5 * st + ts, ts)\n"
          ]
        },
        {
          "output_type": "stream",
          "name": "stdout",
          "text": [
            "Converting window sample  71\n"
          ]
        },
        {
          "output_type": "stream",
          "name": "stderr",
          "text": [
            "<ipython-input-31-70c9f80e4546>:150: DeprecationWarning: Conversion of an array with ndim > 0 to a scalar is deprecated, and will error in future. Ensure you extract a single element from your array before performing this operation. (Deprecated NumPy 1.25.)\n",
            "  t = np.arange(-3.5 * st, 3.5 * st + ts, ts)\n"
          ]
        },
        {
          "output_type": "stream",
          "name": "stdout",
          "text": [
            "Converting window sample  72\n"
          ]
        },
        {
          "output_type": "stream",
          "name": "stderr",
          "text": [
            "<ipython-input-31-70c9f80e4546>:150: DeprecationWarning: Conversion of an array with ndim > 0 to a scalar is deprecated, and will error in future. Ensure you extract a single element from your array before performing this operation. (Deprecated NumPy 1.25.)\n",
            "  t = np.arange(-3.5 * st, 3.5 * st + ts, ts)\n"
          ]
        },
        {
          "output_type": "stream",
          "name": "stdout",
          "text": [
            "Converting window sample  73\n"
          ]
        },
        {
          "output_type": "stream",
          "name": "stderr",
          "text": [
            "<ipython-input-31-70c9f80e4546>:150: DeprecationWarning: Conversion of an array with ndim > 0 to a scalar is deprecated, and will error in future. Ensure you extract a single element from your array before performing this operation. (Deprecated NumPy 1.25.)\n",
            "  t = np.arange(-3.5 * st, 3.5 * st + ts, ts)\n"
          ]
        },
        {
          "output_type": "stream",
          "name": "stdout",
          "text": [
            "Converting window sample  74\n"
          ]
        },
        {
          "output_type": "stream",
          "name": "stderr",
          "text": [
            "<ipython-input-31-70c9f80e4546>:150: DeprecationWarning: Conversion of an array with ndim > 0 to a scalar is deprecated, and will error in future. Ensure you extract a single element from your array before performing this operation. (Deprecated NumPy 1.25.)\n",
            "  t = np.arange(-3.5 * st, 3.5 * st + ts, ts)\n"
          ]
        },
        {
          "output_type": "stream",
          "name": "stdout",
          "text": [
            "Converting window sample  75\n"
          ]
        },
        {
          "output_type": "stream",
          "name": "stderr",
          "text": [
            "<ipython-input-31-70c9f80e4546>:150: DeprecationWarning: Conversion of an array with ndim > 0 to a scalar is deprecated, and will error in future. Ensure you extract a single element from your array before performing this operation. (Deprecated NumPy 1.25.)\n",
            "  t = np.arange(-3.5 * st, 3.5 * st + ts, ts)\n"
          ]
        },
        {
          "output_type": "stream",
          "name": "stdout",
          "text": [
            "Converting window sample  76\n"
          ]
        },
        {
          "output_type": "stream",
          "name": "stderr",
          "text": [
            "<ipython-input-31-70c9f80e4546>:150: DeprecationWarning: Conversion of an array with ndim > 0 to a scalar is deprecated, and will error in future. Ensure you extract a single element from your array before performing this operation. (Deprecated NumPy 1.25.)\n",
            "  t = np.arange(-3.5 * st, 3.5 * st + ts, ts)\n"
          ]
        },
        {
          "output_type": "stream",
          "name": "stdout",
          "text": [
            "Converting window sample  77\n"
          ]
        },
        {
          "output_type": "stream",
          "name": "stderr",
          "text": [
            "<ipython-input-31-70c9f80e4546>:150: DeprecationWarning: Conversion of an array with ndim > 0 to a scalar is deprecated, and will error in future. Ensure you extract a single element from your array before performing this operation. (Deprecated NumPy 1.25.)\n",
            "  t = np.arange(-3.5 * st, 3.5 * st + ts, ts)\n"
          ]
        },
        {
          "output_type": "stream",
          "name": "stdout",
          "text": [
            "Converting window sample  78\n"
          ]
        },
        {
          "output_type": "stream",
          "name": "stderr",
          "text": [
            "<ipython-input-31-70c9f80e4546>:150: DeprecationWarning: Conversion of an array with ndim > 0 to a scalar is deprecated, and will error in future. Ensure you extract a single element from your array before performing this operation. (Deprecated NumPy 1.25.)\n",
            "  t = np.arange(-3.5 * st, 3.5 * st + ts, ts)\n"
          ]
        },
        {
          "output_type": "stream",
          "name": "stdout",
          "text": [
            "Converting window sample  79\n"
          ]
        },
        {
          "output_type": "stream",
          "name": "stderr",
          "text": [
            "<ipython-input-31-70c9f80e4546>:150: DeprecationWarning: Conversion of an array with ndim > 0 to a scalar is deprecated, and will error in future. Ensure you extract a single element from your array before performing this operation. (Deprecated NumPy 1.25.)\n",
            "  t = np.arange(-3.5 * st, 3.5 * st + ts, ts)\n"
          ]
        },
        {
          "output_type": "stream",
          "name": "stdout",
          "text": [
            "Converting window sample  80\n"
          ]
        },
        {
          "output_type": "stream",
          "name": "stderr",
          "text": [
            "<ipython-input-31-70c9f80e4546>:150: DeprecationWarning: Conversion of an array with ndim > 0 to a scalar is deprecated, and will error in future. Ensure you extract a single element from your array before performing this operation. (Deprecated NumPy 1.25.)\n",
            "  t = np.arange(-3.5 * st, 3.5 * st + ts, ts)\n"
          ]
        },
        {
          "output_type": "stream",
          "name": "stdout",
          "text": [
            "Converting window sample  81\n"
          ]
        },
        {
          "output_type": "stream",
          "name": "stderr",
          "text": [
            "<ipython-input-31-70c9f80e4546>:150: DeprecationWarning: Conversion of an array with ndim > 0 to a scalar is deprecated, and will error in future. Ensure you extract a single element from your array before performing this operation. (Deprecated NumPy 1.25.)\n",
            "  t = np.arange(-3.5 * st, 3.5 * st + ts, ts)\n"
          ]
        },
        {
          "output_type": "stream",
          "name": "stdout",
          "text": [
            "Converting window sample  82\n"
          ]
        },
        {
          "output_type": "stream",
          "name": "stderr",
          "text": [
            "<ipython-input-31-70c9f80e4546>:150: DeprecationWarning: Conversion of an array with ndim > 0 to a scalar is deprecated, and will error in future. Ensure you extract a single element from your array before performing this operation. (Deprecated NumPy 1.25.)\n",
            "  t = np.arange(-3.5 * st, 3.5 * st + ts, ts)\n"
          ]
        },
        {
          "output_type": "stream",
          "name": "stdout",
          "text": [
            "Converting window sample  83\n"
          ]
        },
        {
          "output_type": "stream",
          "name": "stderr",
          "text": [
            "<ipython-input-31-70c9f80e4546>:150: DeprecationWarning: Conversion of an array with ndim > 0 to a scalar is deprecated, and will error in future. Ensure you extract a single element from your array before performing this operation. (Deprecated NumPy 1.25.)\n",
            "  t = np.arange(-3.5 * st, 3.5 * st + ts, ts)\n"
          ]
        },
        {
          "output_type": "stream",
          "name": "stdout",
          "text": [
            "Converting window sample  84\n"
          ]
        },
        {
          "output_type": "stream",
          "name": "stderr",
          "text": [
            "<ipython-input-31-70c9f80e4546>:150: DeprecationWarning: Conversion of an array with ndim > 0 to a scalar is deprecated, and will error in future. Ensure you extract a single element from your array before performing this operation. (Deprecated NumPy 1.25.)\n",
            "  t = np.arange(-3.5 * st, 3.5 * st + ts, ts)\n"
          ]
        },
        {
          "output_type": "stream",
          "name": "stdout",
          "text": [
            "Converting window sample  85\n"
          ]
        },
        {
          "output_type": "stream",
          "name": "stderr",
          "text": [
            "<ipython-input-31-70c9f80e4546>:150: DeprecationWarning: Conversion of an array with ndim > 0 to a scalar is deprecated, and will error in future. Ensure you extract a single element from your array before performing this operation. (Deprecated NumPy 1.25.)\n",
            "  t = np.arange(-3.5 * st, 3.5 * st + ts, ts)\n"
          ]
        },
        {
          "output_type": "stream",
          "name": "stdout",
          "text": [
            "Converting window sample  86\n"
          ]
        },
        {
          "output_type": "stream",
          "name": "stderr",
          "text": [
            "<ipython-input-31-70c9f80e4546>:150: DeprecationWarning: Conversion of an array with ndim > 0 to a scalar is deprecated, and will error in future. Ensure you extract a single element from your array before performing this operation. (Deprecated NumPy 1.25.)\n",
            "  t = np.arange(-3.5 * st, 3.5 * st + ts, ts)\n"
          ]
        },
        {
          "output_type": "stream",
          "name": "stdout",
          "text": [
            "Converting window sample  87\n"
          ]
        },
        {
          "output_type": "stream",
          "name": "stderr",
          "text": [
            "<ipython-input-31-70c9f80e4546>:150: DeprecationWarning: Conversion of an array with ndim > 0 to a scalar is deprecated, and will error in future. Ensure you extract a single element from your array before performing this operation. (Deprecated NumPy 1.25.)\n",
            "  t = np.arange(-3.5 * st, 3.5 * st + ts, ts)\n"
          ]
        },
        {
          "output_type": "stream",
          "name": "stdout",
          "text": [
            "Converting window sample  88\n"
          ]
        },
        {
          "output_type": "stream",
          "name": "stderr",
          "text": [
            "<ipython-input-31-70c9f80e4546>:150: DeprecationWarning: Conversion of an array with ndim > 0 to a scalar is deprecated, and will error in future. Ensure you extract a single element from your array before performing this operation. (Deprecated NumPy 1.25.)\n",
            "  t = np.arange(-3.5 * st, 3.5 * st + ts, ts)\n"
          ]
        },
        {
          "output_type": "stream",
          "name": "stdout",
          "text": [
            "Converting window sample  89\n"
          ]
        },
        {
          "output_type": "stream",
          "name": "stderr",
          "text": [
            "<ipython-input-31-70c9f80e4546>:150: DeprecationWarning: Conversion of an array with ndim > 0 to a scalar is deprecated, and will error in future. Ensure you extract a single element from your array before performing this operation. (Deprecated NumPy 1.25.)\n",
            "  t = np.arange(-3.5 * st, 3.5 * st + ts, ts)\n"
          ]
        },
        {
          "output_type": "stream",
          "name": "stdout",
          "text": [
            "Converting window sample  90\n"
          ]
        },
        {
          "output_type": "stream",
          "name": "stderr",
          "text": [
            "<ipython-input-31-70c9f80e4546>:150: DeprecationWarning: Conversion of an array with ndim > 0 to a scalar is deprecated, and will error in future. Ensure you extract a single element from your array before performing this operation. (Deprecated NumPy 1.25.)\n",
            "  t = np.arange(-3.5 * st, 3.5 * st + ts, ts)\n"
          ]
        },
        {
          "output_type": "stream",
          "name": "stdout",
          "text": [
            "Converting window sample  91\n"
          ]
        },
        {
          "output_type": "stream",
          "name": "stderr",
          "text": [
            "<ipython-input-31-70c9f80e4546>:150: DeprecationWarning: Conversion of an array with ndim > 0 to a scalar is deprecated, and will error in future. Ensure you extract a single element from your array before performing this operation. (Deprecated NumPy 1.25.)\n",
            "  t = np.arange(-3.5 * st, 3.5 * st + ts, ts)\n"
          ]
        },
        {
          "output_type": "stream",
          "name": "stdout",
          "text": [
            "Converting window sample  92\n"
          ]
        },
        {
          "output_type": "stream",
          "name": "stderr",
          "text": [
            "<ipython-input-31-70c9f80e4546>:150: DeprecationWarning: Conversion of an array with ndim > 0 to a scalar is deprecated, and will error in future. Ensure you extract a single element from your array before performing this operation. (Deprecated NumPy 1.25.)\n",
            "  t = np.arange(-3.5 * st, 3.5 * st + ts, ts)\n"
          ]
        },
        {
          "output_type": "stream",
          "name": "stdout",
          "text": [
            "Converting window sample  93\n"
          ]
        },
        {
          "output_type": "stream",
          "name": "stderr",
          "text": [
            "<ipython-input-31-70c9f80e4546>:150: DeprecationWarning: Conversion of an array with ndim > 0 to a scalar is deprecated, and will error in future. Ensure you extract a single element from your array before performing this operation. (Deprecated NumPy 1.25.)\n",
            "  t = np.arange(-3.5 * st, 3.5 * st + ts, ts)\n"
          ]
        },
        {
          "output_type": "stream",
          "name": "stdout",
          "text": [
            "Converting window sample  94\n"
          ]
        },
        {
          "output_type": "stream",
          "name": "stderr",
          "text": [
            "<ipython-input-31-70c9f80e4546>:150: DeprecationWarning: Conversion of an array with ndim > 0 to a scalar is deprecated, and will error in future. Ensure you extract a single element from your array before performing this operation. (Deprecated NumPy 1.25.)\n",
            "  t = np.arange(-3.5 * st, 3.5 * st + ts, ts)\n"
          ]
        },
        {
          "output_type": "stream",
          "name": "stdout",
          "text": [
            "Converting window sample  95\n"
          ]
        },
        {
          "output_type": "stream",
          "name": "stderr",
          "text": [
            "<ipython-input-31-70c9f80e4546>:150: DeprecationWarning: Conversion of an array with ndim > 0 to a scalar is deprecated, and will error in future. Ensure you extract a single element from your array before performing this operation. (Deprecated NumPy 1.25.)\n",
            "  t = np.arange(-3.5 * st, 3.5 * st + ts, ts)\n"
          ]
        },
        {
          "output_type": "stream",
          "name": "stdout",
          "text": [
            "Converting window sample  96\n"
          ]
        },
        {
          "output_type": "stream",
          "name": "stderr",
          "text": [
            "<ipython-input-31-70c9f80e4546>:150: DeprecationWarning: Conversion of an array with ndim > 0 to a scalar is deprecated, and will error in future. Ensure you extract a single element from your array before performing this operation. (Deprecated NumPy 1.25.)\n",
            "  t = np.arange(-3.5 * st, 3.5 * st + ts, ts)\n"
          ]
        },
        {
          "output_type": "stream",
          "name": "stdout",
          "text": [
            "Converting window sample  97\n"
          ]
        },
        {
          "output_type": "stream",
          "name": "stderr",
          "text": [
            "<ipython-input-31-70c9f80e4546>:150: DeprecationWarning: Conversion of an array with ndim > 0 to a scalar is deprecated, and will error in future. Ensure you extract a single element from your array before performing this operation. (Deprecated NumPy 1.25.)\n",
            "  t = np.arange(-3.5 * st, 3.5 * st + ts, ts)\n"
          ]
        },
        {
          "output_type": "stream",
          "name": "stdout",
          "text": [
            "Converting window sample  98\n"
          ]
        },
        {
          "output_type": "stream",
          "name": "stderr",
          "text": [
            "<ipython-input-31-70c9f80e4546>:150: DeprecationWarning: Conversion of an array with ndim > 0 to a scalar is deprecated, and will error in future. Ensure you extract a single element from your array before performing this operation. (Deprecated NumPy 1.25.)\n",
            "  t = np.arange(-3.5 * st, 3.5 * st + ts, ts)\n"
          ]
        },
        {
          "output_type": "stream",
          "name": "stdout",
          "text": [
            "Converting window sample  99\n"
          ]
        },
        {
          "output_type": "stream",
          "name": "stderr",
          "text": [
            "<ipython-input-31-70c9f80e4546>:150: DeprecationWarning: Conversion of an array with ndim > 0 to a scalar is deprecated, and will error in future. Ensure you extract a single element from your array before performing this operation. (Deprecated NumPy 1.25.)\n",
            "  t = np.arange(-3.5 * st, 3.5 * st + ts, ts)\n"
          ]
        }
      ],
      "source": [
        "# ------> Convert samples to images and save them\n",
        "\n",
        "#for i in range(len(samples)):\n",
        "for i in range(100): # For debugging/testing\n",
        "\n",
        "    # Transpose sample array\n",
        "    sample = np.transpose(samples[i])\n",
        "\n",
        "    # Print the current sample's number being converted\n",
        "    print(\"Converting window sample \", i)\n",
        "\n",
        "    # Generate TF representation\n",
        "    time, freq, Sxx = WaveletTF_transform(sample[1], fs, 10, 2000, 10, 7, 0)\n",
        "\n",
        "    # Plot and save TF representation\n",
        "    plt.figure(i, figsize=(1,1))\n",
        "    plt.pcolormesh(time+sample[0][0], freq, Sxx, shading='gouraud')\n",
        "    plt.xlabel('Time [s]'); plt.ylabel('Freq [Hz]')\n",
        "    plt.axis(\"off\")\n",
        "\n",
        "    TF_sample = io.BytesIO()\n",
        "    plt.savefig(TF_sample, bbox_inches='tight', pad_inches=0, format='jpg')\n",
        "\n",
        "    # Convert matplotlib figure to PIL image\n",
        "    img = Image.open(TF_sample)\n",
        "\n",
        "    # Resize PIL image\n",
        "    img_resized = img.resize((64, 64))\n",
        "\n",
        "    TF_sample.close()\n",
        "    #!rm TF_sample\n",
        "\n",
        "    # Convert PIL resized image to RGB\n",
        "    if img_resized.mode != 'RGB':\n",
        "        img_resized = img_resized.convert('RGB')\n",
        "\n",
        "    sample_number = str(i).zfill(6)\n",
        "\n",
        "    # Save PIL resized RGB image\n",
        "    img_resized.save('TF_sample_' + sample_number + '.jpg')\n",
        "\n",
        "    # Save PIL resized RGB image as numpy array\n",
        "    img_array = np.array(img_resized)\n",
        "    np.save('TF_sample_' + sample_number, img_array)\n",
        "\n",
        "    #plt.show()\n",
        "\n",
        "    plt.figure(i).clear()\n",
        "    plt.close()\n",
        "    gc.collect()"
      ]
    },
    {
      "cell_type": "code",
      "execution_count": null,
      "metadata": {
        "id": "bwH0ni4MLdja"
      },
      "outputs": [],
      "source": []
    }
  ],
  "metadata": {
    "colab": {
      "toc_visible": true,
      "provenance": []
    },
    "kernelspec": {
      "display_name": "Python 3",
      "name": "python3"
    },
    "language_info": {
      "name": "python"
    }
  },
  "nbformat": 4,
  "nbformat_minor": 0
}